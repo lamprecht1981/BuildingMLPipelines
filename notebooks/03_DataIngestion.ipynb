{
 "metadata": {
  "language_info": {
   "codemirror_mode": {
    "name": "ipython",
    "version": 3
   },
   "file_extension": ".py",
   "mimetype": "text/x-python",
   "name": "python",
   "nbconvert_exporter": "python",
   "pygments_lexer": "ipython3",
   "version": "3.8.5-final"
  },
  "orig_nbformat": 2,
  "kernelspec": {
   "name": "mlpipe",
   "display_name": "MLPipeTFX",
   "language": "python"
  }
 },
 "nbformat": 4,
 "nbformat_minor": 2,
 "cells": [
  {
   "source": [
    "<h1><center>Data Ingestion</center></h1>"
   ],
   "cell_type": "markdown",
   "metadata": {}
  },
  {
   "source": [
    "# 0. Prelim"
   ],
   "cell_type": "markdown",
   "metadata": {}
  },
  {
   "source": [
    "## 0.1 Moduls"
   ],
   "cell_type": "markdown",
   "metadata": {}
  },
  {
   "source": [
    "### 0.1.1 Python"
   ],
   "cell_type": "markdown",
   "metadata": {}
  },
  {
   "cell_type": "code",
   "execution_count": 31,
   "metadata": {},
   "outputs": [
    {
     "output_type": "execute_result",
     "data": {
      "text/plain": [
       "module"
      ]
     },
     "metadata": {},
     "execution_count": 31
    }
   ],
   "source": [
    "type(parquet_executor)"
   ]
  },
  {
   "cell_type": "code",
   "execution_count": 48,
   "metadata": {},
   "outputs": [],
   "source": [
    "import os\n",
    "\n",
    "import numpy as np \n",
    "import pandas as pd \n",
    "\n",
    "\n",
    "from tfx.components import (\n",
    "                                CsvExampleGen,\n",
    "                                 ImportExampleGen,\n",
    "                                 FileBasedExampleGen\n",
    "                            )\n",
    "from tfx.components.base import executor_spec\n",
    "from tfx.components.example_gen.custom_executors import parquet_executor\n",
    "from tfx.utils.dsl_utils import external_input\n",
    "\n",
    "from tfx.orchestration.experimental.interactive.interactive_context import                              InteractiveContext"
   ]
  },
  {
   "source": [
    "### 0.1.2 Jupyter"
   ],
   "cell_type": "markdown",
   "metadata": {}
  },
  {
   "cell_type": "code",
   "execution_count": 13,
   "metadata": {},
   "outputs": [
    {
     "output_type": "stream",
     "name": "stdout",
     "text": [
      "The autoreload extension is already loaded. To reload it, use:\n",
      "  %reload_ext autoreload\n"
     ]
    }
   ],
   "source": [
    "%load_ext autoreload\n",
    "%autoreload 2"
   ]
  },
  {
   "source": [
    "## 0.2 Parameters"
   ],
   "cell_type": "markdown",
   "metadata": {}
  },
  {
   "cell_type": "code",
   "execution_count": 18,
   "metadata": {},
   "outputs": [],
   "source": [
    "# A. Directories\n",
    "base_dir            =   os.getcwd()\n",
    "data_csv_dir        =   os.path.abspath(\"../data/raw/consumer_complaints_with_arrative/csv\"     )\n",
    "data_parquet_dir    =   os.path.abspath(\"../data/raw/consumer_complaints_with_arrative/parquet\" )\n",
    "tfx_dir             =   os.path.abspath(\"../reports/tfx\"                                        )\n",
    "\n",
    "# B. Raw Data\n",
    "local_raw_csv_name      = os.path.join(  data_dir , \"csv/consumer_complaints_with_narrative.csv\"            )\n",
    "local_raw_parquet_name  = os.path.join(  data_dir , \"parquet/consumer_complaints_with_narrative.parquet\"    )\n",
    "\n",
    "# C. Outputs\n",
    "rseed       = 7237529\n",
    "sample_size = 25"
   ]
  },
  {
   "source": [
    "# 1. Data Ingestion"
   ],
   "cell_type": "markdown",
   "metadata": {}
  },
  {
   "source": [
    "## 1.0 Define Context"
   ],
   "cell_type": "markdown",
   "metadata": {}
  },
  {
   "cell_type": "code",
   "execution_count": 16,
   "metadata": {},
   "outputs": [
    {
     "output_type": "stream",
     "name": "stderr",
     "text": [
      "WARNING:absl:InteractiveContext metadata_connection_config not provided: using SQLite ML Metadata database at /home/micha/Shared/Local/03_Projects/git/BuildingMLPipelines/reports/tfx/metadata.sqlite.\n"
     ]
    }
   ],
   "source": [
    "context = InteractiveContext(  pipeline_root= tfx_dir  )"
   ]
  },
  {
   "source": [
    "## 1.1 Reading csv files"
   ],
   "cell_type": "markdown",
   "metadata": {}
  },
  {
   "cell_type": "code",
   "execution_count": 19,
   "metadata": {},
   "outputs": [
    {
     "output_type": "stream",
     "name": "stderr",
     "text": [
      "WARNING:absl:The \"input\" argument to the CsvExampleGen component has been deprecated by \"input_base\". Please update your usage as support for this argument will be removed soon.\n"
     ]
    },
    {
     "output_type": "execute_result",
     "data": {
      "text/plain": [
       "ExecutionResult(\n",
       "    component_id: CsvExampleGen\n",
       "    execution_id: 15\n",
       "    outputs:\n",
       "        examples: Channel(\n",
       "            type_name: Examples\n",
       "            artifacts: [Artifact(artifact: id: 13\n",
       "        type_id: 5\n",
       "        uri: \"/home/micha/Shared/Local/03_Projects/git/BuildingMLPipelines/reports/tfx/CsvExampleGen/examples/15\"\n",
       "        properties {\n",
       "          key: \"split_names\"\n",
       "          value {\n",
       "            string_value: \"[\\\"train\\\", \\\"eval\\\"]\"\n",
       "          }\n",
       "        }\n",
       "        custom_properties {\n",
       "          key: \"input_fingerprint\"\n",
       "          value {\n",
       "            string_value: \"split:single_split,num_files:1,total_bytes:78956236,xor_checksum:1613301944,sum_checksum:1613301944\"\n",
       "          }\n",
       "        }\n",
       "        custom_properties {\n",
       "          key: \"payload_format\"\n",
       "          value {\n",
       "            string_value: \"FORMAT_TF_EXAMPLE\"\n",
       "          }\n",
       "        }\n",
       "        custom_properties {\n",
       "          key: \"span\"\n",
       "          value {\n",
       "            string_value: \"0\"\n",
       "          }\n",
       "        }\n",
       "        custom_properties {\n",
       "          key: \"state\"\n",
       "          value {\n",
       "            string_value: \"published\"\n",
       "          }\n",
       "        }\n",
       "        state: LIVE\n",
       "        , artifact_type: id: 5\n",
       "        name: \"Examples\"\n",
       "        properties {\n",
       "          key: \"span\"\n",
       "          value: INT\n",
       "        }\n",
       "        properties {\n",
       "          key: \"split_names\"\n",
       "          value: STRING\n",
       "        }\n",
       "        properties {\n",
       "          key: \"version\"\n",
       "          value: INT\n",
       "        }\n",
       "        )]\n",
       "        ))"
      ],
      "text/html": "<style>\n.tfx-object.expanded {\n  padding: 4px 8px 4px 8px;\n  background: white;\n  border: 1px solid #bbbbbb;\n  box-shadow: 4px 4px 2px rgba(0,0,0,0.05);\n}\n.tfx-object, .tfx-object * {\n  font-size: 11pt;\n}\n.tfx-object > .title {\n  cursor: pointer;\n}\n.tfx-object .expansion-marker {\n  color: #999999;\n}\n.tfx-object.expanded > .title > .expansion-marker:before {\n  content: '▼';\n}\n.tfx-object.collapsed > .title > .expansion-marker:before {\n  content: '▶';\n}\n.tfx-object .class-name {\n  font-weight: bold;\n}\n.tfx-object .deemphasize {\n  opacity: 0.5;\n}\n.tfx-object.collapsed > table.attr-table {\n  display: none;\n}\n.tfx-object.expanded > table.attr-table {\n  display: block;\n}\n.tfx-object table.attr-table {\n  border: 2px solid white;\n  margin-top: 5px;\n}\n.tfx-object table.attr-table td.attr-name {\n  vertical-align: top;\n  font-weight: bold;\n}\n.tfx-object table.attr-table td.attrvalue {\n  text-align: left;\n}\n</style>\n<script>\nfunction toggleTfxObject(element) {\n  var objElement = element.parentElement;\n  if (objElement.classList.contains('collapsed')) {\n    objElement.classList.remove('collapsed');\n    objElement.classList.add('expanded');\n  } else {\n    objElement.classList.add('collapsed');\n    objElement.classList.remove('expanded');\n  }\n}\n</script>\n<div class=\"tfx-object expanded\"><div class = \"title\" onclick=\"toggleTfxObject(this)\"><span class=\"expansion-marker\"></span><span class=\"class-name\">ExecutionResult</span><span class=\"deemphasize\"> at 0x7f25a6cb0f40</span></div><table class=\"attr-table\"><tr><td class=\"attr-name\">.execution_id</td><td class = \"attrvalue\">15</td></tr><tr><td class=\"attr-name\">.component</td><td class = \"attrvalue\"><style>\n.tfx-object.expanded {\n  padding: 4px 8px 4px 8px;\n  background: white;\n  border: 1px solid #bbbbbb;\n  box-shadow: 4px 4px 2px rgba(0,0,0,0.05);\n}\n.tfx-object, .tfx-object * {\n  font-size: 11pt;\n}\n.tfx-object > .title {\n  cursor: pointer;\n}\n.tfx-object .expansion-marker {\n  color: #999999;\n}\n.tfx-object.expanded > .title > .expansion-marker:before {\n  content: '▼';\n}\n.tfx-object.collapsed > .title > .expansion-marker:before {\n  content: '▶';\n}\n.tfx-object .class-name {\n  font-weight: bold;\n}\n.tfx-object .deemphasize {\n  opacity: 0.5;\n}\n.tfx-object.collapsed > table.attr-table {\n  display: none;\n}\n.tfx-object.expanded > table.attr-table {\n  display: block;\n}\n.tfx-object table.attr-table {\n  border: 2px solid white;\n  margin-top: 5px;\n}\n.tfx-object table.attr-table td.attr-name {\n  vertical-align: top;\n  font-weight: bold;\n}\n.tfx-object table.attr-table td.attrvalue {\n  text-align: left;\n}\n</style>\n<script>\nfunction toggleTfxObject(element) {\n  var objElement = element.parentElement;\n  if (objElement.classList.contains('collapsed')) {\n    objElement.classList.remove('collapsed');\n    objElement.classList.add('expanded');\n  } else {\n    objElement.classList.add('collapsed');\n    objElement.classList.remove('expanded');\n  }\n}\n</script>\n<div class=\"tfx-object collapsed\"><div class = \"title\" onclick=\"toggleTfxObject(this)\"><span class=\"expansion-marker\"></span><span class=\"class-name\">CsvExampleGen</span><span class=\"deemphasize\"> at 0x7f2631ca3490</span></div><table class=\"attr-table\"><tr><td class=\"attr-name\">.inputs</td><td class = \"attrvalue\">{}</td></tr><tr><td class=\"attr-name\">.outputs</td><td class = \"attrvalue\"><table class=\"attr-table\"><tr><td class=\"attr-name\">['examples']</td><td class = \"attrvalue\"><style>\n.tfx-object.expanded {\n  padding: 4px 8px 4px 8px;\n  background: white;\n  border: 1px solid #bbbbbb;\n  box-shadow: 4px 4px 2px rgba(0,0,0,0.05);\n}\n.tfx-object, .tfx-object * {\n  font-size: 11pt;\n}\n.tfx-object > .title {\n  cursor: pointer;\n}\n.tfx-object .expansion-marker {\n  color: #999999;\n}\n.tfx-object.expanded > .title > .expansion-marker:before {\n  content: '▼';\n}\n.tfx-object.collapsed > .title > .expansion-marker:before {\n  content: '▶';\n}\n.tfx-object .class-name {\n  font-weight: bold;\n}\n.tfx-object .deemphasize {\n  opacity: 0.5;\n}\n.tfx-object.collapsed > table.attr-table {\n  display: none;\n}\n.tfx-object.expanded > table.attr-table {\n  display: block;\n}\n.tfx-object table.attr-table {\n  border: 2px solid white;\n  margin-top: 5px;\n}\n.tfx-object table.attr-table td.attr-name {\n  vertical-align: top;\n  font-weight: bold;\n}\n.tfx-object table.attr-table td.attrvalue {\n  text-align: left;\n}\n</style>\n<script>\nfunction toggleTfxObject(element) {\n  var objElement = element.parentElement;\n  if (objElement.classList.contains('collapsed')) {\n    objElement.classList.remove('collapsed');\n    objElement.classList.add('expanded');\n  } else {\n    objElement.classList.add('collapsed');\n    objElement.classList.remove('expanded');\n  }\n}\n</script>\n<div class=\"tfx-object collapsed\"><div class = \"title\" onclick=\"toggleTfxObject(this)\"><span class=\"expansion-marker\"></span><span class=\"class-name\">Channel</span> of type <span class=\"class-name\">'Examples'</span> (1 artifact)<span class=\"deemphasize\"> at 0x7f2631ca3940</span></div><table class=\"attr-table\"><tr><td class=\"attr-name\">.type_name</td><td class = \"attrvalue\">Examples</td></tr><tr><td class=\"attr-name\">._artifacts</td><td class = \"attrvalue\"><table class=\"attr-table\"><tr><td class=\"attr-name\">[0]</td><td class = \"attrvalue\"><style>\n.tfx-object.expanded {\n  padding: 4px 8px 4px 8px;\n  background: white;\n  border: 1px solid #bbbbbb;\n  box-shadow: 4px 4px 2px rgba(0,0,0,0.05);\n}\n.tfx-object, .tfx-object * {\n  font-size: 11pt;\n}\n.tfx-object > .title {\n  cursor: pointer;\n}\n.tfx-object .expansion-marker {\n  color: #999999;\n}\n.tfx-object.expanded > .title > .expansion-marker:before {\n  content: '▼';\n}\n.tfx-object.collapsed > .title > .expansion-marker:before {\n  content: '▶';\n}\n.tfx-object .class-name {\n  font-weight: bold;\n}\n.tfx-object .deemphasize {\n  opacity: 0.5;\n}\n.tfx-object.collapsed > table.attr-table {\n  display: none;\n}\n.tfx-object.expanded > table.attr-table {\n  display: block;\n}\n.tfx-object table.attr-table {\n  border: 2px solid white;\n  margin-top: 5px;\n}\n.tfx-object table.attr-table td.attr-name {\n  vertical-align: top;\n  font-weight: bold;\n}\n.tfx-object table.attr-table td.attrvalue {\n  text-align: left;\n}\n</style>\n<script>\nfunction toggleTfxObject(element) {\n  var objElement = element.parentElement;\n  if (objElement.classList.contains('collapsed')) {\n    objElement.classList.remove('collapsed');\n    objElement.classList.add('expanded');\n  } else {\n    objElement.classList.add('collapsed');\n    objElement.classList.remove('expanded');\n  }\n}\n</script>\n<div class=\"tfx-object collapsed\"><div class = \"title\" onclick=\"toggleTfxObject(this)\"><span class=\"expansion-marker\"></span><span class=\"class-name\">Artifact</span> of type <span class=\"class-name\">'Examples'</span> (uri: /home/micha/Shared/Local/03_Projects/git/BuildingMLPipelines/reports/tfx/CsvExampleGen/examples/15)<span class=\"deemphasize\"> at 0x7f25a6ca5340</span></div><table class=\"attr-table\"><tr><td class=\"attr-name\">.type</td><td class = \"attrvalue\">&lt;class &#x27;tfx.types.standard_artifacts.Examples&#x27;&gt;</td></tr><tr><td class=\"attr-name\">.uri</td><td class = \"attrvalue\">/home/micha/Shared/Local/03_Projects/git/BuildingMLPipelines/reports/tfx/CsvExampleGen/examples/15</td></tr><tr><td class=\"attr-name\">.span</td><td class = \"attrvalue\">0</td></tr><tr><td class=\"attr-name\">.split_names</td><td class = \"attrvalue\">[&quot;train&quot;, &quot;eval&quot;]</td></tr><tr><td class=\"attr-name\">.version</td><td class = \"attrvalue\">0</td></tr></table></div></td></tr></table></td></tr></table></div></td></tr></table></td></tr><tr><td class=\"attr-name\">.exec_properties</td><td class = \"attrvalue\"><table class=\"attr-table\"><tr><td class=\"attr-name\">['input_base']</td><td class = \"attrvalue\">/home/micha/Shared/Local/03_Projects/git/BuildingMLPipelines/data/raw/consumer_complaints_with_arrative/csv</td></tr><tr><td class=\"attr-name\">['input_config']</td><td class = \"attrvalue\">{\n  &quot;splits&quot;: [\n    {\n      &quot;name&quot;: &quot;single_split&quot;,\n      &quot;pattern&quot;: &quot;*&quot;\n    }\n  ]\n}</td></tr><tr><td class=\"attr-name\">['output_config']</td><td class = \"attrvalue\">{\n  &quot;split_config&quot;: {\n    &quot;splits&quot;: [\n      {\n        &quot;hash_buckets&quot;: 2,\n        &quot;name&quot;: &quot;train&quot;\n      },\n      {\n        &quot;hash_buckets&quot;: 1,\n        &quot;name&quot;: &quot;eval&quot;\n      }\n    ]\n  }\n}</td></tr><tr><td class=\"attr-name\">['output_data_format']</td><td class = \"attrvalue\">6</td></tr><tr><td class=\"attr-name\">['custom_config']</td><td class = \"attrvalue\">None</td></tr><tr><td class=\"attr-name\">['range_config']</td><td class = \"attrvalue\">None</td></tr><tr><td class=\"attr-name\">['span']</td><td class = \"attrvalue\">0</td></tr><tr><td class=\"attr-name\">['version']</td><td class = \"attrvalue\">None</td></tr><tr><td class=\"attr-name\">['input_fingerprint']</td><td class = \"attrvalue\">split:single_split,num_files:1,total_bytes:78956236,xor_checksum:1613301944,sum_checksum:1613301944</td></tr></table></td></tr></table></div></td></tr><tr><td class=\"attr-name\">.component.inputs</td><td class = \"attrvalue\">{}</td></tr><tr><td class=\"attr-name\">.component.outputs</td><td class = \"attrvalue\"><table class=\"attr-table\"><tr><td class=\"attr-name\">['examples']</td><td class = \"attrvalue\"><style>\n.tfx-object.expanded {\n  padding: 4px 8px 4px 8px;\n  background: white;\n  border: 1px solid #bbbbbb;\n  box-shadow: 4px 4px 2px rgba(0,0,0,0.05);\n}\n.tfx-object, .tfx-object * {\n  font-size: 11pt;\n}\n.tfx-object > .title {\n  cursor: pointer;\n}\n.tfx-object .expansion-marker {\n  color: #999999;\n}\n.tfx-object.expanded > .title > .expansion-marker:before {\n  content: '▼';\n}\n.tfx-object.collapsed > .title > .expansion-marker:before {\n  content: '▶';\n}\n.tfx-object .class-name {\n  font-weight: bold;\n}\n.tfx-object .deemphasize {\n  opacity: 0.5;\n}\n.tfx-object.collapsed > table.attr-table {\n  display: none;\n}\n.tfx-object.expanded > table.attr-table {\n  display: block;\n}\n.tfx-object table.attr-table {\n  border: 2px solid white;\n  margin-top: 5px;\n}\n.tfx-object table.attr-table td.attr-name {\n  vertical-align: top;\n  font-weight: bold;\n}\n.tfx-object table.attr-table td.attrvalue {\n  text-align: left;\n}\n</style>\n<script>\nfunction toggleTfxObject(element) {\n  var objElement = element.parentElement;\n  if (objElement.classList.contains('collapsed')) {\n    objElement.classList.remove('collapsed');\n    objElement.classList.add('expanded');\n  } else {\n    objElement.classList.add('collapsed');\n    objElement.classList.remove('expanded');\n  }\n}\n</script>\n<div class=\"tfx-object collapsed\"><div class = \"title\" onclick=\"toggleTfxObject(this)\"><span class=\"expansion-marker\"></span><span class=\"class-name\">Channel</span> of type <span class=\"class-name\">'Examples'</span> (1 artifact)<span class=\"deemphasize\"> at 0x7f2631ca3940</span></div><table class=\"attr-table\"><tr><td class=\"attr-name\">.type_name</td><td class = \"attrvalue\">Examples</td></tr><tr><td class=\"attr-name\">._artifacts</td><td class = \"attrvalue\"><table class=\"attr-table\"><tr><td class=\"attr-name\">[0]</td><td class = \"attrvalue\"><style>\n.tfx-object.expanded {\n  padding: 4px 8px 4px 8px;\n  background: white;\n  border: 1px solid #bbbbbb;\n  box-shadow: 4px 4px 2px rgba(0,0,0,0.05);\n}\n.tfx-object, .tfx-object * {\n  font-size: 11pt;\n}\n.tfx-object > .title {\n  cursor: pointer;\n}\n.tfx-object .expansion-marker {\n  color: #999999;\n}\n.tfx-object.expanded > .title > .expansion-marker:before {\n  content: '▼';\n}\n.tfx-object.collapsed > .title > .expansion-marker:before {\n  content: '▶';\n}\n.tfx-object .class-name {\n  font-weight: bold;\n}\n.tfx-object .deemphasize {\n  opacity: 0.5;\n}\n.tfx-object.collapsed > table.attr-table {\n  display: none;\n}\n.tfx-object.expanded > table.attr-table {\n  display: block;\n}\n.tfx-object table.attr-table {\n  border: 2px solid white;\n  margin-top: 5px;\n}\n.tfx-object table.attr-table td.attr-name {\n  vertical-align: top;\n  font-weight: bold;\n}\n.tfx-object table.attr-table td.attrvalue {\n  text-align: left;\n}\n</style>\n<script>\nfunction toggleTfxObject(element) {\n  var objElement = element.parentElement;\n  if (objElement.classList.contains('collapsed')) {\n    objElement.classList.remove('collapsed');\n    objElement.classList.add('expanded');\n  } else {\n    objElement.classList.add('collapsed');\n    objElement.classList.remove('expanded');\n  }\n}\n</script>\n<div class=\"tfx-object collapsed\"><div class = \"title\" onclick=\"toggleTfxObject(this)\"><span class=\"expansion-marker\"></span><span class=\"class-name\">Artifact</span> of type <span class=\"class-name\">'Examples'</span> (uri: /home/micha/Shared/Local/03_Projects/git/BuildingMLPipelines/reports/tfx/CsvExampleGen/examples/15)<span class=\"deemphasize\"> at 0x7f25a6ca5340</span></div><table class=\"attr-table\"><tr><td class=\"attr-name\">.type</td><td class = \"attrvalue\">&lt;class &#x27;tfx.types.standard_artifacts.Examples&#x27;&gt;</td></tr><tr><td class=\"attr-name\">.uri</td><td class = \"attrvalue\">/home/micha/Shared/Local/03_Projects/git/BuildingMLPipelines/reports/tfx/CsvExampleGen/examples/15</td></tr><tr><td class=\"attr-name\">.span</td><td class = \"attrvalue\">0</td></tr><tr><td class=\"attr-name\">.split_names</td><td class = \"attrvalue\">[&quot;train&quot;, &quot;eval&quot;]</td></tr><tr><td class=\"attr-name\">.version</td><td class = \"attrvalue\">0</td></tr></table></div></td></tr></table></td></tr></table></div></td></tr></table></td></tr></table></div>"
     },
     "metadata": {},
     "execution_count": 19
    }
   ],
   "source": [
    "# A. Define Data Channel\n",
    "examples = external_input( data_csv_dir)\n",
    "\n",
    "# B. Define Data Generator\n",
    "example_gen = CsvExampleGen(  input= examples  )\n",
    "\n",
    "# C. Execute\n",
    "context.run(  example_gen  )"
   ]
  },
  {
   "source": [
    "## 1.2 Reading TFRecord files"
   ],
   "cell_type": "markdown",
   "metadata": {}
  },
  {
   "cell_type": "code",
   "execution_count": 20,
   "metadata": {},
   "outputs": [
    {
     "output_type": "stream",
     "name": "stderr",
     "text": [
      "WARNING:absl:The \"input\" argument to the ImportExampleGen component has been deprecated by \"input_base\". Please update your usage as support for this argument will be removed soon.\n"
     ]
    },
    {
     "output_type": "execute_result",
     "data": {
      "text/plain": [
       "ExecutionResult(\n",
       "    component_id: ImportExampleGen\n",
       "    execution_id: 16\n",
       "    outputs:\n",
       "        examples: Channel(\n",
       "            type_name: Examples\n",
       "            artifacts: [Artifact(artifact: id: 14\n",
       "        type_id: 5\n",
       "        uri: \"/home/micha/Shared/Local/03_Projects/git/BuildingMLPipelines/reports/tfx/ImportExampleGen/examples/16\"\n",
       "        properties {\n",
       "          key: \"split_names\"\n",
       "          value {\n",
       "            string_value: \"[\\\"train\\\", \\\"eval\\\"]\"\n",
       "          }\n",
       "        }\n",
       "        custom_properties {\n",
       "          key: \"input_fingerprint\"\n",
       "          value {\n",
       "            string_value: \"split:single_split,num_files:1,total_bytes:10067356,xor_checksum:1613286801,sum_checksum:1613286801\"\n",
       "          }\n",
       "        }\n",
       "        custom_properties {\n",
       "          key: \"payload_format\"\n",
       "          value {\n",
       "            string_value: \"FORMAT_TF_EXAMPLE\"\n",
       "          }\n",
       "        }\n",
       "        custom_properties {\n",
       "          key: \"span\"\n",
       "          value {\n",
       "            string_value: \"0\"\n",
       "          }\n",
       "        }\n",
       "        custom_properties {\n",
       "          key: \"state\"\n",
       "          value {\n",
       "            string_value: \"published\"\n",
       "          }\n",
       "        }\n",
       "        state: LIVE\n",
       "        , artifact_type: id: 5\n",
       "        name: \"Examples\"\n",
       "        properties {\n",
       "          key: \"span\"\n",
       "          value: INT\n",
       "        }\n",
       "        properties {\n",
       "          key: \"split_names\"\n",
       "          value: STRING\n",
       "        }\n",
       "        properties {\n",
       "          key: \"version\"\n",
       "          value: INT\n",
       "        }\n",
       "        )]\n",
       "        ))"
      ],
      "text/html": "<style>\n.tfx-object.expanded {\n  padding: 4px 8px 4px 8px;\n  background: white;\n  border: 1px solid #bbbbbb;\n  box-shadow: 4px 4px 2px rgba(0,0,0,0.05);\n}\n.tfx-object, .tfx-object * {\n  font-size: 11pt;\n}\n.tfx-object > .title {\n  cursor: pointer;\n}\n.tfx-object .expansion-marker {\n  color: #999999;\n}\n.tfx-object.expanded > .title > .expansion-marker:before {\n  content: '▼';\n}\n.tfx-object.collapsed > .title > .expansion-marker:before {\n  content: '▶';\n}\n.tfx-object .class-name {\n  font-weight: bold;\n}\n.tfx-object .deemphasize {\n  opacity: 0.5;\n}\n.tfx-object.collapsed > table.attr-table {\n  display: none;\n}\n.tfx-object.expanded > table.attr-table {\n  display: block;\n}\n.tfx-object table.attr-table {\n  border: 2px solid white;\n  margin-top: 5px;\n}\n.tfx-object table.attr-table td.attr-name {\n  vertical-align: top;\n  font-weight: bold;\n}\n.tfx-object table.attr-table td.attrvalue {\n  text-align: left;\n}\n</style>\n<script>\nfunction toggleTfxObject(element) {\n  var objElement = element.parentElement;\n  if (objElement.classList.contains('collapsed')) {\n    objElement.classList.remove('collapsed');\n    objElement.classList.add('expanded');\n  } else {\n    objElement.classList.add('collapsed');\n    objElement.classList.remove('expanded');\n  }\n}\n</script>\n<div class=\"tfx-object expanded\"><div class = \"title\" onclick=\"toggleTfxObject(this)\"><span class=\"expansion-marker\"></span><span class=\"class-name\">ExecutionResult</span><span class=\"deemphasize\"> at 0x7f25bb2cd220</span></div><table class=\"attr-table\"><tr><td class=\"attr-name\">.execution_id</td><td class = \"attrvalue\">16</td></tr><tr><td class=\"attr-name\">.component</td><td class = \"attrvalue\"><style>\n.tfx-object.expanded {\n  padding: 4px 8px 4px 8px;\n  background: white;\n  border: 1px solid #bbbbbb;\n  box-shadow: 4px 4px 2px rgba(0,0,0,0.05);\n}\n.tfx-object, .tfx-object * {\n  font-size: 11pt;\n}\n.tfx-object > .title {\n  cursor: pointer;\n}\n.tfx-object .expansion-marker {\n  color: #999999;\n}\n.tfx-object.expanded > .title > .expansion-marker:before {\n  content: '▼';\n}\n.tfx-object.collapsed > .title > .expansion-marker:before {\n  content: '▶';\n}\n.tfx-object .class-name {\n  font-weight: bold;\n}\n.tfx-object .deemphasize {\n  opacity: 0.5;\n}\n.tfx-object.collapsed > table.attr-table {\n  display: none;\n}\n.tfx-object.expanded > table.attr-table {\n  display: block;\n}\n.tfx-object table.attr-table {\n  border: 2px solid white;\n  margin-top: 5px;\n}\n.tfx-object table.attr-table td.attr-name {\n  vertical-align: top;\n  font-weight: bold;\n}\n.tfx-object table.attr-table td.attrvalue {\n  text-align: left;\n}\n</style>\n<script>\nfunction toggleTfxObject(element) {\n  var objElement = element.parentElement;\n  if (objElement.classList.contains('collapsed')) {\n    objElement.classList.remove('collapsed');\n    objElement.classList.add('expanded');\n  } else {\n    objElement.classList.add('collapsed');\n    objElement.classList.remove('expanded');\n  }\n}\n</script>\n<div class=\"tfx-object collapsed\"><div class = \"title\" onclick=\"toggleTfxObject(this)\"><span class=\"expansion-marker\"></span><span class=\"class-name\">ImportExampleGen</span><span class=\"deemphasize\"> at 0x7f25baed56d0</span></div><table class=\"attr-table\"><tr><td class=\"attr-name\">.inputs</td><td class = \"attrvalue\">{}</td></tr><tr><td class=\"attr-name\">.outputs</td><td class = \"attrvalue\"><table class=\"attr-table\"><tr><td class=\"attr-name\">['examples']</td><td class = \"attrvalue\"><style>\n.tfx-object.expanded {\n  padding: 4px 8px 4px 8px;\n  background: white;\n  border: 1px solid #bbbbbb;\n  box-shadow: 4px 4px 2px rgba(0,0,0,0.05);\n}\n.tfx-object, .tfx-object * {\n  font-size: 11pt;\n}\n.tfx-object > .title {\n  cursor: pointer;\n}\n.tfx-object .expansion-marker {\n  color: #999999;\n}\n.tfx-object.expanded > .title > .expansion-marker:before {\n  content: '▼';\n}\n.tfx-object.collapsed > .title > .expansion-marker:before {\n  content: '▶';\n}\n.tfx-object .class-name {\n  font-weight: bold;\n}\n.tfx-object .deemphasize {\n  opacity: 0.5;\n}\n.tfx-object.collapsed > table.attr-table {\n  display: none;\n}\n.tfx-object.expanded > table.attr-table {\n  display: block;\n}\n.tfx-object table.attr-table {\n  border: 2px solid white;\n  margin-top: 5px;\n}\n.tfx-object table.attr-table td.attr-name {\n  vertical-align: top;\n  font-weight: bold;\n}\n.tfx-object table.attr-table td.attrvalue {\n  text-align: left;\n}\n</style>\n<script>\nfunction toggleTfxObject(element) {\n  var objElement = element.parentElement;\n  if (objElement.classList.contains('collapsed')) {\n    objElement.classList.remove('collapsed');\n    objElement.classList.add('expanded');\n  } else {\n    objElement.classList.add('collapsed');\n    objElement.classList.remove('expanded');\n  }\n}\n</script>\n<div class=\"tfx-object collapsed\"><div class = \"title\" onclick=\"toggleTfxObject(this)\"><span class=\"expansion-marker\"></span><span class=\"class-name\">Channel</span> of type <span class=\"class-name\">'Examples'</span> (1 artifact)<span class=\"deemphasize\"> at 0x7f25baed5160</span></div><table class=\"attr-table\"><tr><td class=\"attr-name\">.type_name</td><td class = \"attrvalue\">Examples</td></tr><tr><td class=\"attr-name\">._artifacts</td><td class = \"attrvalue\"><table class=\"attr-table\"><tr><td class=\"attr-name\">[0]</td><td class = \"attrvalue\"><style>\n.tfx-object.expanded {\n  padding: 4px 8px 4px 8px;\n  background: white;\n  border: 1px solid #bbbbbb;\n  box-shadow: 4px 4px 2px rgba(0,0,0,0.05);\n}\n.tfx-object, .tfx-object * {\n  font-size: 11pt;\n}\n.tfx-object > .title {\n  cursor: pointer;\n}\n.tfx-object .expansion-marker {\n  color: #999999;\n}\n.tfx-object.expanded > .title > .expansion-marker:before {\n  content: '▼';\n}\n.tfx-object.collapsed > .title > .expansion-marker:before {\n  content: '▶';\n}\n.tfx-object .class-name {\n  font-weight: bold;\n}\n.tfx-object .deemphasize {\n  opacity: 0.5;\n}\n.tfx-object.collapsed > table.attr-table {\n  display: none;\n}\n.tfx-object.expanded > table.attr-table {\n  display: block;\n}\n.tfx-object table.attr-table {\n  border: 2px solid white;\n  margin-top: 5px;\n}\n.tfx-object table.attr-table td.attr-name {\n  vertical-align: top;\n  font-weight: bold;\n}\n.tfx-object table.attr-table td.attrvalue {\n  text-align: left;\n}\n</style>\n<script>\nfunction toggleTfxObject(element) {\n  var objElement = element.parentElement;\n  if (objElement.classList.contains('collapsed')) {\n    objElement.classList.remove('collapsed');\n    objElement.classList.add('expanded');\n  } else {\n    objElement.classList.add('collapsed');\n    objElement.classList.remove('expanded');\n  }\n}\n</script>\n<div class=\"tfx-object collapsed\"><div class = \"title\" onclick=\"toggleTfxObject(this)\"><span class=\"expansion-marker\"></span><span class=\"class-name\">Artifact</span> of type <span class=\"class-name\">'Examples'</span> (uri: /home/micha/Shared/Local/03_Projects/git/BuildingMLPipelines/reports/tfx/ImportExampleGen/examples/16)<span class=\"deemphasize\"> at 0x7f25bbe95550</span></div><table class=\"attr-table\"><tr><td class=\"attr-name\">.type</td><td class = \"attrvalue\">&lt;class &#x27;tfx.types.standard_artifacts.Examples&#x27;&gt;</td></tr><tr><td class=\"attr-name\">.uri</td><td class = \"attrvalue\">/home/micha/Shared/Local/03_Projects/git/BuildingMLPipelines/reports/tfx/ImportExampleGen/examples/16</td></tr><tr><td class=\"attr-name\">.span</td><td class = \"attrvalue\">0</td></tr><tr><td class=\"attr-name\">.split_names</td><td class = \"attrvalue\">[&quot;train&quot;, &quot;eval&quot;]</td></tr><tr><td class=\"attr-name\">.version</td><td class = \"attrvalue\">0</td></tr></table></div></td></tr></table></td></tr></table></div></td></tr></table></td></tr><tr><td class=\"attr-name\">.exec_properties</td><td class = \"attrvalue\"><table class=\"attr-table\"><tr><td class=\"attr-name\">['input_base']</td><td class = \"attrvalue\">/home/micha/Shared/Local/03_Projects/git/BuildingMLPipelines/reports/tfx/CsvExampleGen/examples/2/eval</td></tr><tr><td class=\"attr-name\">['input_config']</td><td class = \"attrvalue\">{\n  &quot;splits&quot;: [\n    {\n      &quot;name&quot;: &quot;single_split&quot;,\n      &quot;pattern&quot;: &quot;*&quot;\n    }\n  ]\n}</td></tr><tr><td class=\"attr-name\">['output_config']</td><td class = \"attrvalue\">{\n  &quot;split_config&quot;: {\n    &quot;splits&quot;: [\n      {\n        &quot;hash_buckets&quot;: 2,\n        &quot;name&quot;: &quot;train&quot;\n      },\n      {\n        &quot;hash_buckets&quot;: 1,\n        &quot;name&quot;: &quot;eval&quot;\n      }\n    ]\n  }\n}</td></tr><tr><td class=\"attr-name\">['output_data_format']</td><td class = \"attrvalue\">6</td></tr><tr><td class=\"attr-name\">['custom_config']</td><td class = \"attrvalue\">None</td></tr><tr><td class=\"attr-name\">['range_config']</td><td class = \"attrvalue\">None</td></tr><tr><td class=\"attr-name\">['span']</td><td class = \"attrvalue\">0</td></tr><tr><td class=\"attr-name\">['version']</td><td class = \"attrvalue\">None</td></tr><tr><td class=\"attr-name\">['input_fingerprint']</td><td class = \"attrvalue\">split:single_split,num_files:1,total_bytes:10067356,xor_checksum:1613286801,sum_checksum:1613286801</td></tr></table></td></tr></table></div></td></tr><tr><td class=\"attr-name\">.component.inputs</td><td class = \"attrvalue\">{}</td></tr><tr><td class=\"attr-name\">.component.outputs</td><td class = \"attrvalue\"><table class=\"attr-table\"><tr><td class=\"attr-name\">['examples']</td><td class = \"attrvalue\"><style>\n.tfx-object.expanded {\n  padding: 4px 8px 4px 8px;\n  background: white;\n  border: 1px solid #bbbbbb;\n  box-shadow: 4px 4px 2px rgba(0,0,0,0.05);\n}\n.tfx-object, .tfx-object * {\n  font-size: 11pt;\n}\n.tfx-object > .title {\n  cursor: pointer;\n}\n.tfx-object .expansion-marker {\n  color: #999999;\n}\n.tfx-object.expanded > .title > .expansion-marker:before {\n  content: '▼';\n}\n.tfx-object.collapsed > .title > .expansion-marker:before {\n  content: '▶';\n}\n.tfx-object .class-name {\n  font-weight: bold;\n}\n.tfx-object .deemphasize {\n  opacity: 0.5;\n}\n.tfx-object.collapsed > table.attr-table {\n  display: none;\n}\n.tfx-object.expanded > table.attr-table {\n  display: block;\n}\n.tfx-object table.attr-table {\n  border: 2px solid white;\n  margin-top: 5px;\n}\n.tfx-object table.attr-table td.attr-name {\n  vertical-align: top;\n  font-weight: bold;\n}\n.tfx-object table.attr-table td.attrvalue {\n  text-align: left;\n}\n</style>\n<script>\nfunction toggleTfxObject(element) {\n  var objElement = element.parentElement;\n  if (objElement.classList.contains('collapsed')) {\n    objElement.classList.remove('collapsed');\n    objElement.classList.add('expanded');\n  } else {\n    objElement.classList.add('collapsed');\n    objElement.classList.remove('expanded');\n  }\n}\n</script>\n<div class=\"tfx-object collapsed\"><div class = \"title\" onclick=\"toggleTfxObject(this)\"><span class=\"expansion-marker\"></span><span class=\"class-name\">Channel</span> of type <span class=\"class-name\">'Examples'</span> (1 artifact)<span class=\"deemphasize\"> at 0x7f25baed5160</span></div><table class=\"attr-table\"><tr><td class=\"attr-name\">.type_name</td><td class = \"attrvalue\">Examples</td></tr><tr><td class=\"attr-name\">._artifacts</td><td class = \"attrvalue\"><table class=\"attr-table\"><tr><td class=\"attr-name\">[0]</td><td class = \"attrvalue\"><style>\n.tfx-object.expanded {\n  padding: 4px 8px 4px 8px;\n  background: white;\n  border: 1px solid #bbbbbb;\n  box-shadow: 4px 4px 2px rgba(0,0,0,0.05);\n}\n.tfx-object, .tfx-object * {\n  font-size: 11pt;\n}\n.tfx-object > .title {\n  cursor: pointer;\n}\n.tfx-object .expansion-marker {\n  color: #999999;\n}\n.tfx-object.expanded > .title > .expansion-marker:before {\n  content: '▼';\n}\n.tfx-object.collapsed > .title > .expansion-marker:before {\n  content: '▶';\n}\n.tfx-object .class-name {\n  font-weight: bold;\n}\n.tfx-object .deemphasize {\n  opacity: 0.5;\n}\n.tfx-object.collapsed > table.attr-table {\n  display: none;\n}\n.tfx-object.expanded > table.attr-table {\n  display: block;\n}\n.tfx-object table.attr-table {\n  border: 2px solid white;\n  margin-top: 5px;\n}\n.tfx-object table.attr-table td.attr-name {\n  vertical-align: top;\n  font-weight: bold;\n}\n.tfx-object table.attr-table td.attrvalue {\n  text-align: left;\n}\n</style>\n<script>\nfunction toggleTfxObject(element) {\n  var objElement = element.parentElement;\n  if (objElement.classList.contains('collapsed')) {\n    objElement.classList.remove('collapsed');\n    objElement.classList.add('expanded');\n  } else {\n    objElement.classList.add('collapsed');\n    objElement.classList.remove('expanded');\n  }\n}\n</script>\n<div class=\"tfx-object collapsed\"><div class = \"title\" onclick=\"toggleTfxObject(this)\"><span class=\"expansion-marker\"></span><span class=\"class-name\">Artifact</span> of type <span class=\"class-name\">'Examples'</span> (uri: /home/micha/Shared/Local/03_Projects/git/BuildingMLPipelines/reports/tfx/ImportExampleGen/examples/16)<span class=\"deemphasize\"> at 0x7f25bbe95550</span></div><table class=\"attr-table\"><tr><td class=\"attr-name\">.type</td><td class = \"attrvalue\">&lt;class &#x27;tfx.types.standard_artifacts.Examples&#x27;&gt;</td></tr><tr><td class=\"attr-name\">.uri</td><td class = \"attrvalue\">/home/micha/Shared/Local/03_Projects/git/BuildingMLPipelines/reports/tfx/ImportExampleGen/examples/16</td></tr><tr><td class=\"attr-name\">.span</td><td class = \"attrvalue\">0</td></tr><tr><td class=\"attr-name\">.split_names</td><td class = \"attrvalue\">[&quot;train&quot;, &quot;eval&quot;]</td></tr><tr><td class=\"attr-name\">.version</td><td class = \"attrvalue\">0</td></tr></table></div></td></tr></table></td></tr></table></div></td></tr></table></td></tr></table></div>"
     },
     "metadata": {},
     "execution_count": 20
    }
   ],
   "source": [
    "# A. Define Data Channel\n",
    "examples = external_input( os.path.join( tfx_dir , \"CsvExampleGen/examples/2/eval\" )  )\n",
    "\n",
    "# B. Define Data Generator\n",
    "example_gen = ImportExampleGen(  input= examples  )\n",
    "\n",
    "# C. Execute\n",
    "context.run(  example_gen  )"
   ]
  },
  {
   "source": [
    "## 1.3 Reading Parquet Files"
   ],
   "cell_type": "markdown",
   "metadata": {}
  },
  {
   "cell_type": "code",
   "execution_count": 50,
   "metadata": {},
   "outputs": [
    {
     "output_type": "stream",
     "name": "stderr",
     "text": [
      "WARNING:absl:From <ipython-input-50-b3ce7b49266a>:10: The name tfx.components.base.executor_spec.ExecutorClassSpec is deprecated. Please use tfx.dsl.components.base.executor_spec.ExecutorClassSpec instead.\n",
      "WARNING:absl:The \"input\" argument to the ExampleGen component has been deprecated by \"input_base\". Please update your usage as support for this argument will be removed soon.\n"
     ]
    },
    {
     "output_type": "execute_result",
     "data": {
      "text/plain": [
       "ExecutionResult(\n",
       "    component_id: FileBasedExampleGen\n",
       "    execution_id: 21\n",
       "    outputs:\n",
       "        examples: Channel(\n",
       "            type_name: Examples\n",
       "            artifacts: [Artifact(artifact: id: 19\n",
       "        type_id: 5\n",
       "        uri: \"/home/micha/Shared/Local/03_Projects/git/BuildingMLPipelines/reports/tfx/FileBasedExampleGen/examples/21\"\n",
       "        properties {\n",
       "          key: \"split_names\"\n",
       "          value {\n",
       "            string_value: \"[\\\"train\\\", \\\"eval\\\"]\"\n",
       "          }\n",
       "        }\n",
       "        custom_properties {\n",
       "          key: \"input_fingerprint\"\n",
       "          value {\n",
       "            string_value: \"split:single_split,num_files:1,total_bytes:39049831,xor_checksum:1613303619,sum_checksum:1613303619\"\n",
       "          }\n",
       "        }\n",
       "        custom_properties {\n",
       "          key: \"payload_format\"\n",
       "          value {\n",
       "            string_value: \"FORMAT_TF_EXAMPLE\"\n",
       "          }\n",
       "        }\n",
       "        custom_properties {\n",
       "          key: \"span\"\n",
       "          value {\n",
       "            string_value: \"0\"\n",
       "          }\n",
       "        }\n",
       "        custom_properties {\n",
       "          key: \"state\"\n",
       "          value {\n",
       "            string_value: \"published\"\n",
       "          }\n",
       "        }\n",
       "        state: LIVE\n",
       "        , artifact_type: id: 5\n",
       "        name: \"Examples\"\n",
       "        properties {\n",
       "          key: \"span\"\n",
       "          value: INT\n",
       "        }\n",
       "        properties {\n",
       "          key: \"split_names\"\n",
       "          value: STRING\n",
       "        }\n",
       "        properties {\n",
       "          key: \"version\"\n",
       "          value: INT\n",
       "        }\n",
       "        )]\n",
       "        ))"
      ],
      "text/html": "<style>\n.tfx-object.expanded {\n  padding: 4px 8px 4px 8px;\n  background: white;\n  border: 1px solid #bbbbbb;\n  box-shadow: 4px 4px 2px rgba(0,0,0,0.05);\n}\n.tfx-object, .tfx-object * {\n  font-size: 11pt;\n}\n.tfx-object > .title {\n  cursor: pointer;\n}\n.tfx-object .expansion-marker {\n  color: #999999;\n}\n.tfx-object.expanded > .title > .expansion-marker:before {\n  content: '▼';\n}\n.tfx-object.collapsed > .title > .expansion-marker:before {\n  content: '▶';\n}\n.tfx-object .class-name {\n  font-weight: bold;\n}\n.tfx-object .deemphasize {\n  opacity: 0.5;\n}\n.tfx-object.collapsed > table.attr-table {\n  display: none;\n}\n.tfx-object.expanded > table.attr-table {\n  display: block;\n}\n.tfx-object table.attr-table {\n  border: 2px solid white;\n  margin-top: 5px;\n}\n.tfx-object table.attr-table td.attr-name {\n  vertical-align: top;\n  font-weight: bold;\n}\n.tfx-object table.attr-table td.attrvalue {\n  text-align: left;\n}\n</style>\n<script>\nfunction toggleTfxObject(element) {\n  var objElement = element.parentElement;\n  if (objElement.classList.contains('collapsed')) {\n    objElement.classList.remove('collapsed');\n    objElement.classList.add('expanded');\n  } else {\n    objElement.classList.add('collapsed');\n    objElement.classList.remove('expanded');\n  }\n}\n</script>\n<div class=\"tfx-object expanded\"><div class = \"title\" onclick=\"toggleTfxObject(this)\"><span class=\"expansion-marker\"></span><span class=\"class-name\">ExecutionResult</span><span class=\"deemphasize\"> at 0x7f25baec98e0</span></div><table class=\"attr-table\"><tr><td class=\"attr-name\">.execution_id</td><td class = \"attrvalue\">21</td></tr><tr><td class=\"attr-name\">.component</td><td class = \"attrvalue\"><style>\n.tfx-object.expanded {\n  padding: 4px 8px 4px 8px;\n  background: white;\n  border: 1px solid #bbbbbb;\n  box-shadow: 4px 4px 2px rgba(0,0,0,0.05);\n}\n.tfx-object, .tfx-object * {\n  font-size: 11pt;\n}\n.tfx-object > .title {\n  cursor: pointer;\n}\n.tfx-object .expansion-marker {\n  color: #999999;\n}\n.tfx-object.expanded > .title > .expansion-marker:before {\n  content: '▼';\n}\n.tfx-object.collapsed > .title > .expansion-marker:before {\n  content: '▶';\n}\n.tfx-object .class-name {\n  font-weight: bold;\n}\n.tfx-object .deemphasize {\n  opacity: 0.5;\n}\n.tfx-object.collapsed > table.attr-table {\n  display: none;\n}\n.tfx-object.expanded > table.attr-table {\n  display: block;\n}\n.tfx-object table.attr-table {\n  border: 2px solid white;\n  margin-top: 5px;\n}\n.tfx-object table.attr-table td.attr-name {\n  vertical-align: top;\n  font-weight: bold;\n}\n.tfx-object table.attr-table td.attrvalue {\n  text-align: left;\n}\n</style>\n<script>\nfunction toggleTfxObject(element) {\n  var objElement = element.parentElement;\n  if (objElement.classList.contains('collapsed')) {\n    objElement.classList.remove('collapsed');\n    objElement.classList.add('expanded');\n  } else {\n    objElement.classList.add('collapsed');\n    objElement.classList.remove('expanded');\n  }\n}\n</script>\n<div class=\"tfx-object collapsed\"><div class = \"title\" onclick=\"toggleTfxObject(this)\"><span class=\"expansion-marker\"></span><span class=\"class-name\">FileBasedExampleGen</span><span class=\"deemphasize\"> at 0x7f25b8d07df0</span></div><table class=\"attr-table\"><tr><td class=\"attr-name\">.inputs</td><td class = \"attrvalue\">{}</td></tr><tr><td class=\"attr-name\">.outputs</td><td class = \"attrvalue\"><table class=\"attr-table\"><tr><td class=\"attr-name\">['examples']</td><td class = \"attrvalue\"><style>\n.tfx-object.expanded {\n  padding: 4px 8px 4px 8px;\n  background: white;\n  border: 1px solid #bbbbbb;\n  box-shadow: 4px 4px 2px rgba(0,0,0,0.05);\n}\n.tfx-object, .tfx-object * {\n  font-size: 11pt;\n}\n.tfx-object > .title {\n  cursor: pointer;\n}\n.tfx-object .expansion-marker {\n  color: #999999;\n}\n.tfx-object.expanded > .title > .expansion-marker:before {\n  content: '▼';\n}\n.tfx-object.collapsed > .title > .expansion-marker:before {\n  content: '▶';\n}\n.tfx-object .class-name {\n  font-weight: bold;\n}\n.tfx-object .deemphasize {\n  opacity: 0.5;\n}\n.tfx-object.collapsed > table.attr-table {\n  display: none;\n}\n.tfx-object.expanded > table.attr-table {\n  display: block;\n}\n.tfx-object table.attr-table {\n  border: 2px solid white;\n  margin-top: 5px;\n}\n.tfx-object table.attr-table td.attr-name {\n  vertical-align: top;\n  font-weight: bold;\n}\n.tfx-object table.attr-table td.attrvalue {\n  text-align: left;\n}\n</style>\n<script>\nfunction toggleTfxObject(element) {\n  var objElement = element.parentElement;\n  if (objElement.classList.contains('collapsed')) {\n    objElement.classList.remove('collapsed');\n    objElement.classList.add('expanded');\n  } else {\n    objElement.classList.add('collapsed');\n    objElement.classList.remove('expanded');\n  }\n}\n</script>\n<div class=\"tfx-object collapsed\"><div class = \"title\" onclick=\"toggleTfxObject(this)\"><span class=\"expansion-marker\"></span><span class=\"class-name\">Channel</span> of type <span class=\"class-name\">'Examples'</span> (1 artifact)<span class=\"deemphasize\"> at 0x7f25bbe80880</span></div><table class=\"attr-table\"><tr><td class=\"attr-name\">.type_name</td><td class = \"attrvalue\">Examples</td></tr><tr><td class=\"attr-name\">._artifacts</td><td class = \"attrvalue\"><table class=\"attr-table\"><tr><td class=\"attr-name\">[0]</td><td class = \"attrvalue\"><style>\n.tfx-object.expanded {\n  padding: 4px 8px 4px 8px;\n  background: white;\n  border: 1px solid #bbbbbb;\n  box-shadow: 4px 4px 2px rgba(0,0,0,0.05);\n}\n.tfx-object, .tfx-object * {\n  font-size: 11pt;\n}\n.tfx-object > .title {\n  cursor: pointer;\n}\n.tfx-object .expansion-marker {\n  color: #999999;\n}\n.tfx-object.expanded > .title > .expansion-marker:before {\n  content: '▼';\n}\n.tfx-object.collapsed > .title > .expansion-marker:before {\n  content: '▶';\n}\n.tfx-object .class-name {\n  font-weight: bold;\n}\n.tfx-object .deemphasize {\n  opacity: 0.5;\n}\n.tfx-object.collapsed > table.attr-table {\n  display: none;\n}\n.tfx-object.expanded > table.attr-table {\n  display: block;\n}\n.tfx-object table.attr-table {\n  border: 2px solid white;\n  margin-top: 5px;\n}\n.tfx-object table.attr-table td.attr-name {\n  vertical-align: top;\n  font-weight: bold;\n}\n.tfx-object table.attr-table td.attrvalue {\n  text-align: left;\n}\n</style>\n<script>\nfunction toggleTfxObject(element) {\n  var objElement = element.parentElement;\n  if (objElement.classList.contains('collapsed')) {\n    objElement.classList.remove('collapsed');\n    objElement.classList.add('expanded');\n  } else {\n    objElement.classList.add('collapsed');\n    objElement.classList.remove('expanded');\n  }\n}\n</script>\n<div class=\"tfx-object collapsed\"><div class = \"title\" onclick=\"toggleTfxObject(this)\"><span class=\"expansion-marker\"></span><span class=\"class-name\">Artifact</span> of type <span class=\"class-name\">'Examples'</span> (uri: /home/micha/Shared/Local/03_Projects/git/BuildingMLPipelines/reports/tfx/FileBasedExampleGen/examples/21)<span class=\"deemphasize\"> at 0x7f25ba4af7f0</span></div><table class=\"attr-table\"><tr><td class=\"attr-name\">.type</td><td class = \"attrvalue\">&lt;class &#x27;tfx.types.standard_artifacts.Examples&#x27;&gt;</td></tr><tr><td class=\"attr-name\">.uri</td><td class = \"attrvalue\">/home/micha/Shared/Local/03_Projects/git/BuildingMLPipelines/reports/tfx/FileBasedExampleGen/examples/21</td></tr><tr><td class=\"attr-name\">.span</td><td class = \"attrvalue\">0</td></tr><tr><td class=\"attr-name\">.split_names</td><td class = \"attrvalue\">[&quot;train&quot;, &quot;eval&quot;]</td></tr><tr><td class=\"attr-name\">.version</td><td class = \"attrvalue\">0</td></tr></table></div></td></tr></table></td></tr></table></div></td></tr></table></td></tr><tr><td class=\"attr-name\">.exec_properties</td><td class = \"attrvalue\"><table class=\"attr-table\"><tr><td class=\"attr-name\">['input_base']</td><td class = \"attrvalue\">/home/micha/Shared/Local/03_Projects/git/BuildingMLPipelines/data/raw/consumer_complaints_with_arrative/parquet</td></tr><tr><td class=\"attr-name\">['input_config']</td><td class = \"attrvalue\">{\n  &quot;splits&quot;: [\n    {\n      &quot;name&quot;: &quot;single_split&quot;,\n      &quot;pattern&quot;: &quot;*&quot;\n    }\n  ]\n}</td></tr><tr><td class=\"attr-name\">['output_config']</td><td class = \"attrvalue\">{\n  &quot;split_config&quot;: {\n    &quot;splits&quot;: [\n      {\n        &quot;hash_buckets&quot;: 2,\n        &quot;name&quot;: &quot;train&quot;\n      },\n      {\n        &quot;hash_buckets&quot;: 1,\n        &quot;name&quot;: &quot;eval&quot;\n      }\n    ]\n  }\n}</td></tr><tr><td class=\"attr-name\">['output_data_format']</td><td class = \"attrvalue\">6</td></tr><tr><td class=\"attr-name\">['custom_config']</td><td class = \"attrvalue\">None</td></tr><tr><td class=\"attr-name\">['range_config']</td><td class = \"attrvalue\">None</td></tr><tr><td class=\"attr-name\">['span']</td><td class = \"attrvalue\">0</td></tr><tr><td class=\"attr-name\">['version']</td><td class = \"attrvalue\">None</td></tr><tr><td class=\"attr-name\">['input_fingerprint']</td><td class = \"attrvalue\">split:single_split,num_files:1,total_bytes:39049831,xor_checksum:1613303619,sum_checksum:1613303619</td></tr></table></td></tr></table></div></td></tr><tr><td class=\"attr-name\">.component.inputs</td><td class = \"attrvalue\">{}</td></tr><tr><td class=\"attr-name\">.component.outputs</td><td class = \"attrvalue\"><table class=\"attr-table\"><tr><td class=\"attr-name\">['examples']</td><td class = \"attrvalue\"><style>\n.tfx-object.expanded {\n  padding: 4px 8px 4px 8px;\n  background: white;\n  border: 1px solid #bbbbbb;\n  box-shadow: 4px 4px 2px rgba(0,0,0,0.05);\n}\n.tfx-object, .tfx-object * {\n  font-size: 11pt;\n}\n.tfx-object > .title {\n  cursor: pointer;\n}\n.tfx-object .expansion-marker {\n  color: #999999;\n}\n.tfx-object.expanded > .title > .expansion-marker:before {\n  content: '▼';\n}\n.tfx-object.collapsed > .title > .expansion-marker:before {\n  content: '▶';\n}\n.tfx-object .class-name {\n  font-weight: bold;\n}\n.tfx-object .deemphasize {\n  opacity: 0.5;\n}\n.tfx-object.collapsed > table.attr-table {\n  display: none;\n}\n.tfx-object.expanded > table.attr-table {\n  display: block;\n}\n.tfx-object table.attr-table {\n  border: 2px solid white;\n  margin-top: 5px;\n}\n.tfx-object table.attr-table td.attr-name {\n  vertical-align: top;\n  font-weight: bold;\n}\n.tfx-object table.attr-table td.attrvalue {\n  text-align: left;\n}\n</style>\n<script>\nfunction toggleTfxObject(element) {\n  var objElement = element.parentElement;\n  if (objElement.classList.contains('collapsed')) {\n    objElement.classList.remove('collapsed');\n    objElement.classList.add('expanded');\n  } else {\n    objElement.classList.add('collapsed');\n    objElement.classList.remove('expanded');\n  }\n}\n</script>\n<div class=\"tfx-object collapsed\"><div class = \"title\" onclick=\"toggleTfxObject(this)\"><span class=\"expansion-marker\"></span><span class=\"class-name\">Channel</span> of type <span class=\"class-name\">'Examples'</span> (1 artifact)<span class=\"deemphasize\"> at 0x7f25bbe80880</span></div><table class=\"attr-table\"><tr><td class=\"attr-name\">.type_name</td><td class = \"attrvalue\">Examples</td></tr><tr><td class=\"attr-name\">._artifacts</td><td class = \"attrvalue\"><table class=\"attr-table\"><tr><td class=\"attr-name\">[0]</td><td class = \"attrvalue\"><style>\n.tfx-object.expanded {\n  padding: 4px 8px 4px 8px;\n  background: white;\n  border: 1px solid #bbbbbb;\n  box-shadow: 4px 4px 2px rgba(0,0,0,0.05);\n}\n.tfx-object, .tfx-object * {\n  font-size: 11pt;\n}\n.tfx-object > .title {\n  cursor: pointer;\n}\n.tfx-object .expansion-marker {\n  color: #999999;\n}\n.tfx-object.expanded > .title > .expansion-marker:before {\n  content: '▼';\n}\n.tfx-object.collapsed > .title > .expansion-marker:before {\n  content: '▶';\n}\n.tfx-object .class-name {\n  font-weight: bold;\n}\n.tfx-object .deemphasize {\n  opacity: 0.5;\n}\n.tfx-object.collapsed > table.attr-table {\n  display: none;\n}\n.tfx-object.expanded > table.attr-table {\n  display: block;\n}\n.tfx-object table.attr-table {\n  border: 2px solid white;\n  margin-top: 5px;\n}\n.tfx-object table.attr-table td.attr-name {\n  vertical-align: top;\n  font-weight: bold;\n}\n.tfx-object table.attr-table td.attrvalue {\n  text-align: left;\n}\n</style>\n<script>\nfunction toggleTfxObject(element) {\n  var objElement = element.parentElement;\n  if (objElement.classList.contains('collapsed')) {\n    objElement.classList.remove('collapsed');\n    objElement.classList.add('expanded');\n  } else {\n    objElement.classList.add('collapsed');\n    objElement.classList.remove('expanded');\n  }\n}\n</script>\n<div class=\"tfx-object collapsed\"><div class = \"title\" onclick=\"toggleTfxObject(this)\"><span class=\"expansion-marker\"></span><span class=\"class-name\">Artifact</span> of type <span class=\"class-name\">'Examples'</span> (uri: /home/micha/Shared/Local/03_Projects/git/BuildingMLPipelines/reports/tfx/FileBasedExampleGen/examples/21)<span class=\"deemphasize\"> at 0x7f25ba4af7f0</span></div><table class=\"attr-table\"><tr><td class=\"attr-name\">.type</td><td class = \"attrvalue\">&lt;class &#x27;tfx.types.standard_artifacts.Examples&#x27;&gt;</td></tr><tr><td class=\"attr-name\">.uri</td><td class = \"attrvalue\">/home/micha/Shared/Local/03_Projects/git/BuildingMLPipelines/reports/tfx/FileBasedExampleGen/examples/21</td></tr><tr><td class=\"attr-name\">.span</td><td class = \"attrvalue\">0</td></tr><tr><td class=\"attr-name\">.split_names</td><td class = \"attrvalue\">[&quot;train&quot;, &quot;eval&quot;]</td></tr><tr><td class=\"attr-name\">.version</td><td class = \"attrvalue\">0</td></tr></table></div></td></tr></table></td></tr></table></div></td></tr></table></td></tr></table></div>"
     },
     "metadata": {},
     "execution_count": 50
    }
   ],
   "source": [
    "# A. Transform csv file into parquet file\n",
    "pd.read_csv(  local_raw_csv_name  ).to_parquet( local_raw_parquet_name)\n",
    "\n",
    "# B. Define Data Channel\n",
    "examples = external_input( data_parquet_dir)\n",
    "\n",
    "# B. Define Data Generator\n",
    "example_gen =   FileBasedExampleGen(\n",
    "                    input= examples,\n",
    "                    custom_executor_spec= executor_spec.ExecutorClassSpec(parquet_executor.Executor)\n",
    "                )\n",
    "\n",
    "# C. Execute\n",
    "context.run(  example_gen  )"
   ]
  },
  {
   "cell_type": "code",
   "execution_count": null,
   "metadata": {},
   "outputs": [],
   "source": []
  }
 ]
}