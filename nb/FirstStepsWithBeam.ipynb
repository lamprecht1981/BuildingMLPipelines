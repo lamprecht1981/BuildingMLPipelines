{
 "metadata": {
  "language_info": {
   "codemirror_mode": {
    "name": "ipython",
    "version": 3
   },
   "file_extension": ".py",
   "mimetype": "text/x-python",
   "name": "python",
   "nbconvert_exporter": "python",
   "pygments_lexer": "ipython3",
   "version": "3.8.5-final"
  },
  "orig_nbformat": 2,
  "kernelspec": {
   "name": "mlpipe",
   "display_name": "MLPipeTFX",
   "language": "python"
  }
 },
 "nbformat": 4,
 "nbformat_minor": 2,
 "cells": [
  {
   "source": [
    "<h1><center>First Steps with Apache Beam</center></h1>"
   ],
   "cell_type": "markdown",
   "metadata": {}
  },
  {
   "source": [
    "# 0. Prelim"
   ],
   "cell_type": "markdown",
   "metadata": {}
  },
  {
   "source": [
    "## 0.1 Moduls"
   ],
   "cell_type": "markdown",
   "metadata": {}
  },
  {
   "cell_type": "code",
   "execution_count": 8,
   "metadata": {},
   "outputs": [],
   "source": [
    "import os\n",
    "import re\n",
    "\n",
    "import apache_beam as beam\n",
    "from apache_beam.io import ReadFromText, WriteToText\n",
    "from apache_beam.options.pipeline_options import SetupOptions, PipelineOptions"
   ]
  },
  {
   "source": [
    "## 0.2 Options"
   ],
   "cell_type": "markdown",
   "metadata": {}
  },
  {
   "cell_type": "code",
   "execution_count": 9,
   "metadata": {},
   "outputs": [],
   "source": [
    "pipeline_options    = PipelineOptions()"
   ]
  },
  {
   "source": [
    "## 0.3 Parameters"
   ],
   "cell_type": "markdown",
   "metadata": {}
  },
  {
   "cell_type": "code",
   "execution_count": 14,
   "metadata": {},
   "outputs": [],
   "source": [
    "input_file  = os.path.abspath(  \"../in/kinglear.txt\" )\n",
    "output_file =  os.path.abspath( \"../out/output.txt\"   )"
   ]
  },
  {
   "source": [
    "# 1. Pipeline"
   ],
   "cell_type": "markdown",
   "metadata": {}
  },
  {
   "source": [
    "## 1.1 Building a Pipeline"
   ],
   "cell_type": "markdown",
   "metadata": {}
  },
  {
   "source": [
    "## 1.1.0 Defining Methods"
   ],
   "cell_type": "markdown",
   "metadata": {}
  },
  {
   "cell_type": "code",
   "execution_count": 17,
   "metadata": {},
   "outputs": [],
   "source": [
    "def format_result(word_count):\n",
    "    ( word , count )    =   word_count\n",
    "    return  f\"{word}: {count}\""
   ]
  },
  {
   "source": [
    "### 1.1.1 Defining Pipeline"
   ],
   "cell_type": "markdown",
   "metadata": {}
  },
  {
   "cell_type": "code",
   "execution_count": 18,
   "metadata": {},
   "outputs": [
    {
     "output_type": "stream",
     "name": "stderr",
     "text": [
      "WARNING:apache_beam.io.filebasedsink:Deleting 1 existing files in target path matching: -*-of-%(num_shards)05d\n"
     ]
    }
   ],
   "source": [
    "with beam.Pipeline() as p:\n",
    "    lines   =   p | ReadFromText(input_file)\n",
    "\n",
    "    counts  =   (\n",
    "                    lines\n",
    "                    |   \"Split\"         >> beam.FlatMap(        lambda x: re.findall( r\"[A-Za-z\\']+\",x ) )\n",
    "                    |   \"PairWithOne\"   >> beam.Map(            lambda x: (x,1)                         )\n",
    "                    |   \"GroupAndSum\"   >> beam.CombinePerKey(  sum                                     )\n",
    "                )\n",
    "    \n",
    "    output  =   counts | 'Format'   >>  beam.Map(format_result)\n",
    "    output | WriteToText(output_file)"
   ]
  },
  {
   "cell_type": "code",
   "execution_count": null,
   "metadata": {},
   "outputs": [],
   "source": []
  }
 ]
}